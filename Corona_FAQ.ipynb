{
 "cells": [
  {
   "cell_type": "markdown",
   "metadata": {},
   "source": [
    "## RIVM Vragen & antwoorden nieuw coronavirus (COVID-19)\n",
    "\n",
    "In verband met het coronavirus en de vele vragen betreffende dit onderwerp heb ik een dataset gemaakt met veelgestelde vragen en antwoorden van het RIVM. De vragen zijn afkomstig van deze website: https://www.rivm.nl/coronavirus/covid-19/vragen-antwoorden\n",
    "\n",
    "Op deze website kan je redelijk snel voor een vraag die je hebt betreffende het coronavirus een antwoord vinden. Maar, met een chatbot zou die nog een stuk sneller kunnen gaan. Je stelt simpelweg je vraag in en je krijgt een bijbehorend antwoord. \n",
    "\n",
    "In de onderstaande code laad ik eerst de dataset waarin de antwoorden onder \"Answer\" staan en de context van de antwoorden onder \"Context\" staan. De interpretatie van deze kolommen dient als volgt geïnterpreteerd te worden:\n",
    "- `Answer` is een mogelijk antwoord op een vraag.\n",
    "- `Context` is een mogelijke context waarin het antwoord van toepassing zou kunnen zijn."
   ]
  },
  {
   "cell_type": "code",
   "execution_count": 34,
   "metadata": {},
   "outputs": [
    {
     "data": {
      "text/html": [
       "<div>\n",
       "<style scoped>\n",
       "    .dataframe tbody tr th:only-of-type {\n",
       "        vertical-align: middle;\n",
       "    }\n",
       "\n",
       "    .dataframe tbody tr th {\n",
       "        vertical-align: top;\n",
       "    }\n",
       "\n",
       "    .dataframe thead th {\n",
       "        text-align: right;\n",
       "    }\n",
       "</style>\n",
       "<table border=\"1\" class=\"dataframe\">\n",
       "  <thead>\n",
       "    <tr style=\"text-align: right;\">\n",
       "      <th></th>\n",
       "      <th>Context</th>\n",
       "      <th>Answer</th>\n",
       "    </tr>\n",
       "  </thead>\n",
       "  <tbody>\n",
       "    <tr>\n",
       "      <th>0</th>\n",
       "      <td>Welke maatregelen gelden in Nederland tegen verspreiding van het coronavirus?</td>\n",
       "      <td>Iedereen in Nederland: blijf thuis bij klachten van neusverkoudheid of hoesten, keelpijn of koor...</td>\n",
       "    </tr>\n",
       "    <tr>\n",
       "      <th>1</th>\n",
       "      <td>Welke maatregelen gelden in Nederland tegen verspreiding van het coronavirus?</td>\n",
       "      <td>Iedereen in heel Nederland: probeer zoveel mogelijk thuis te werken of de werktijden te spreiden.</td>\n",
       "    </tr>\n",
       "    <tr>\n",
       "      <th>2</th>\n",
       "      <td>Welke maatregelen gelden in Nederland tegen verspreiding van het coronavirus?</td>\n",
       "      <td>Voor kwetsbare personen (ouderen en personen met verminderde weerstand) geldt: vermijd grote gez...</td>\n",
       "    </tr>\n",
       "    <tr>\n",
       "      <th>3</th>\n",
       "      <td>Welke maatregelen gelden in Nederland tegen verspreiding van het coronavirus?</td>\n",
       "      <td>Iedereen in Nederland wordt gevraagd om waar mogelijk 1,5 meter afstand van elkaar te bewaren. O...</td>\n",
       "    </tr>\n",
       "    <tr>\n",
       "      <th>4</th>\n",
       "      <td>Welke maatregelen gelden in Nederland tegen verspreiding van het coronavirus?</td>\n",
       "      <td>Voor zorgpersoneel en personeel in vitale processen: er wordt veel van je gevraagd. Blijf pas th...</td>\n",
       "    </tr>\n",
       "  </tbody>\n",
       "</table>\n",
       "</div>"
      ],
      "text/plain": [
       "                                                                         Context  \\\n",
       "0  Welke maatregelen gelden in Nederland tegen verspreiding van het coronavirus?   \n",
       "1  Welke maatregelen gelden in Nederland tegen verspreiding van het coronavirus?   \n",
       "2  Welke maatregelen gelden in Nederland tegen verspreiding van het coronavirus?   \n",
       "3  Welke maatregelen gelden in Nederland tegen verspreiding van het coronavirus?   \n",
       "4  Welke maatregelen gelden in Nederland tegen verspreiding van het coronavirus?   \n",
       "\n",
       "                                                                                                Answer  \n",
       "0  Iedereen in Nederland: blijf thuis bij klachten van neusverkoudheid of hoesten, keelpijn of koor...  \n",
       "1    Iedereen in heel Nederland: probeer zoveel mogelijk thuis te werken of de werktijden te spreiden.  \n",
       "2  Voor kwetsbare personen (ouderen en personen met verminderde weerstand) geldt: vermijd grote gez...  \n",
       "3  Iedereen in Nederland wordt gevraagd om waar mogelijk 1,5 meter afstand van elkaar te bewaren. O...  \n",
       "4  Voor zorgpersoneel en personeel in vitale processen: er wordt veel van je gevraagd. Blijf pas th...  "
      ]
     },
     "execution_count": 34,
     "metadata": {},
     "output_type": "execute_result"
    }
   ],
   "source": [
    "import numpy as np\n",
    "import pandas as pd\n",
    "\n",
    "# dataset coronavirus RIVM\n",
    "pd.set_option('max_colwidth', 100)  # Increase column width\n",
    "data = pd.read_excel(\"Corona_FAQ.xlsx\", encoding='utf8')\n",
    "data.head()"
   ]
  },
  {
   "cell_type": "markdown",
   "metadata": {},
   "source": [
    "Om deze antwoorden te gebruiken voor een chatbot, gaan we eerst de bijbehorende answer encodings berekenen."
   ]
  },
  {
   "cell_type": "markdown",
   "metadata": {},
   "source": [
    "### Universal Sentence Encoder Multilingual\n",
    "\n",
    "Nu kunnen we gebruik maken van USE om sentence encodings te maken voor de mogelijke antwoorden met context en de vragen! \n",
    "\n",
    "Hiervoor laden we de module, deze is hier te vinden: https://tfhub.dev/google/universal-sentence-encoder-multilingual-qa/3"
   ]
  },
  {
   "cell_type": "code",
   "execution_count": 40,
   "metadata": {},
   "outputs": [],
   "source": [
    "##### Use USE pretrained model to extract response encodings.\n",
    "import tensorflow as tf\n",
    "import tensorflow_hub as hub\n",
    "import tensorflow_text\n",
    "import re\n",
    "\n",
    "def preprocess_sentences(input_sentences):\n",
    "    return [re.sub(r'(covid-19|covid)', 'coronavirus', input_sentence, flags=re.I) \n",
    "            for input_sentence in input_sentences]\n",
    "        \n",
    "# Load module containing USE\n",
    "module = hub.load('https://tfhub.dev/google/universal-sentence-encoder-multilingual-qa/3')\n",
    "\n",
    "# Create response embeddings\n",
    "response_encodings = module.signatures['response_encoder'](\n",
    "        input=tf.constant(preprocess_sentences(data.Answer)),\n",
    "        context=tf.constant(preprocess_sentences(data.Context)))['outputs']"
   ]
  },
  {
   "cell_type": "markdown",
   "metadata": {},
   "source": [
    "Nu kunnen we gaan testen!\n",
    "\n",
    "De sentence encoding voor de vraag wordt gemaakt in de variabele `question_encodings`. Op basis hiervan kiezen we het meest representatieve antwoord. \n",
    "\n",
    "Zoals beschreven in de blog is het meest representatieve antwoord diegene wiens embedding de hoek minimalizeert met de vraag embedding. Dit is equivalent met het bepalen van het maximum van de cosinus van de hoek, maar omdat elke embedding al een vector van lengte 1 is, hoeven we slechts het maximum van het inwendig product te bepalen. In de code hieronder is dat de regel:\n",
    "\n",
    "``np.argmax(np.inner(question_encodings, response_encodings), axis=1)``"
   ]
  },
  {
   "cell_type": "code",
   "execution_count": 41,
   "metadata": {},
   "outputs": [
    {
     "data": {
      "text/html": [
       "<div>\n",
       "<style scoped>\n",
       "    .dataframe tbody tr th:only-of-type {\n",
       "        vertical-align: middle;\n",
       "    }\n",
       "\n",
       "    .dataframe tbody tr th {\n",
       "        vertical-align: top;\n",
       "    }\n",
       "\n",
       "    .dataframe thead th {\n",
       "        text-align: right;\n",
       "    }\n",
       "</style>\n",
       "<table border=\"1\" class=\"dataframe\">\n",
       "  <thead>\n",
       "    <tr style=\"text-align: right;\">\n",
       "      <th></th>\n",
       "      <th>Test Questions</th>\n",
       "      <th>Test Responses</th>\n",
       "    </tr>\n",
       "  </thead>\n",
       "  <tbody>\n",
       "    <tr>\n",
       "      <th>43</th>\n",
       "      <td>Hoe zit het met zwangere vrouwen?</td>\n",
       "      <td>Nee. We zien dat infectie met het virus hetzelfde verloop heeft als bij vrouwen die niet zwanger...</td>\n",
       "    </tr>\n",
       "    <tr>\n",
       "      <th>86</th>\n",
       "      <td>Wat is de incubatietijd?</td>\n",
       "      <td>Bij het nieuwe coronavirus varieert de incubatietijd van 2 tot 12 dagen. Voor de zekerheid gebru...</td>\n",
       "    </tr>\n",
       "    <tr>\n",
       "      <th>87</th>\n",
       "      <td>Zijn huisdieren ook kwetsbaar voor het COVID-19?</td>\n",
       "      <td>Er is op dit moment geen bewijs dat gezelschapsdieren ziek kunnen worden van het nieuwe coronavi...</td>\n",
       "    </tr>\n",
       "    <tr>\n",
       "      <th>57</th>\n",
       "      <td>Zijn er medicijnen tegen het coronavirus?</td>\n",
       "      <td>Er is (nog) geen medicijn tegen het nieuwe coronavirus. Paracetamol en ibuprofen helpen niet om ...</td>\n",
       "    </tr>\n",
       "    <tr>\n",
       "      <th>16</th>\n",
       "      <td>Zijn kinderen een risicogroep voor het coronavirus?</td>\n",
       "      <td>Op dit moment krijgen kinderen bijna nooit klachten van het nieuwe coronavirus. Kinderen zijn du...</td>\n",
       "    </tr>\n",
       "    <tr>\n",
       "      <th>103</th>\n",
       "      <td>Should I stay inside the house?</td>\n",
       "      <td>Als u kucht, hoest en/of verkouden bent, gold al: blijf thuis. Krijgt u daar ook koorts bij, dan...</td>\n",
       "    </tr>\n",
       "    <tr>\n",
       "      <th>45</th>\n",
       "      <td>Kann ich mit meinem Hund spazieren gehen?</td>\n",
       "      <td>Als je geen klachten hebt zoals koorts, hoest of verkoudheidsklachten, kun je gewoon je hond uit...</td>\n",
       "    </tr>\n",
       "  </tbody>\n",
       "</table>\n",
       "</div>"
      ],
      "text/plain": [
       "                                          Test Questions  \\\n",
       "43                     Hoe zit het met zwangere vrouwen?   \n",
       "86                              Wat is de incubatietijd?   \n",
       "87      Zijn huisdieren ook kwetsbaar voor het COVID-19?   \n",
       "57             Zijn er medicijnen tegen het coronavirus?   \n",
       "16   Zijn kinderen een risicogroep voor het coronavirus?   \n",
       "103                      Should I stay inside the house?   \n",
       "45             Kann ich mit meinem Hund spazieren gehen?   \n",
       "\n",
       "                                                                                          Test Responses  \n",
       "43   Nee. We zien dat infectie met het virus hetzelfde verloop heeft als bij vrouwen die niet zwanger...  \n",
       "86   Bij het nieuwe coronavirus varieert de incubatietijd van 2 tot 12 dagen. Voor de zekerheid gebru...  \n",
       "87   Er is op dit moment geen bewijs dat gezelschapsdieren ziek kunnen worden van het nieuwe coronavi...  \n",
       "57   Er is (nog) geen medicijn tegen het nieuwe coronavirus. Paracetamol en ibuprofen helpen niet om ...  \n",
       "16   Op dit moment krijgen kinderen bijna nooit klachten van het nieuwe coronavirus. Kinderen zijn du...  \n",
       "103  Als u kucht, hoest en/of verkouden bent, gold al: blijf thuis. Krijgt u daar ook koorts bij, dan...  \n",
       "45   Als je geen klachten hebt zoals koorts, hoest of verkoudheidsklachten, kun je gewoon je hond uit...  "
      ]
     },
     "execution_count": 41,
     "metadata": {},
     "output_type": "execute_result"
    }
   ],
   "source": [
    "test_questions = [\n",
    "    \"Hoe zit het met zwangere vrouwen?\",\n",
    "    \"Wat is de incubatietijd?\",\n",
    "    \"Zijn huisdieren ook kwetsbaar voor het COVID-19?\",\n",
    "    \"Zijn er medicijnen tegen het coronavirus?\",\n",
    "    \"Zijn kinderen een risicogroep voor het coronavirus?\",\n",
    "    \"Should I stay inside the house?\",  # English questions are also possible.\n",
    "    \"Kann ich mit meinem Hund spazieren gehen?\"  # As well as German, and all the other languages supported by use-multilingual.\n",
    "]\n",
    "\n",
    "# Create encodings for test questions\n",
    "question_encodings = module.signatures['question_encoder'](\n",
    "    tf.constant(preprocess_sentences(test_questions))\n",
    ")['outputs']\n",
    "\n",
    "# Get the responses\n",
    "test_responses = data.Answer[np.argmax(np.inner(question_encodings, response_encodings), axis=1)]\n",
    "\n",
    "# Show them in a dataframe\n",
    "pd.DataFrame({'Test Questions': test_questions, 'Test Responses': test_responses})"
   ]
  },
  {
   "cell_type": "markdown",
   "metadata": {},
   "source": [
    "### Conclusie\n",
    "\n",
    "Zoals je ziet, geeft de chatbot correcte antwoorden op vragen! De reden dat we COVID-19 moeten vervangen in de dataset met coronavirus komt doordat het model nog nooit eerder het woord COVID-19 gezien heeft (maar coronavirus wel). \n",
    "\n",
    "Voel je vrij om meerdere vragen te testen, dit kan je doen door een vraag toe te voegen aan `test_questions`.\n",
    "\n",
    "Voor verdere vragen kan je natuurlijk ook [direct met ons contact opnemen](mailto:ai@wearetriple.com)!"
   ]
  }
 ],
 "metadata": {
  "kernelspec": {
   "display_name": "Python 3",
   "language": "python",
   "name": "python3"
  },
  "language_info": {
   "codemirror_mode": {
    "name": "ipython",
    "version": 3
   },
   "file_extension": ".py",
   "mimetype": "text/x-python",
   "name": "python",
   "nbconvert_exporter": "python",
   "pygments_lexer": "ipython3",
   "version": "3.7.6"
  }
 },
 "nbformat": 4,
 "nbformat_minor": 4
}
